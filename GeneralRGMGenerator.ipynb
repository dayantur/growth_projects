{
 "cells": [
  {
   "cell_type": "markdown",
   "id": "c8f5c26f",
   "metadata": {},
   "source": [
    "## Import libraries.\n",
    "\n",
    "Import all the necessary libraries."
   ]
  },
  {
   "cell_type": "code",
   "execution_count": 1,
   "id": "4e059464",
   "metadata": {},
   "outputs": [],
   "source": [
    "import random\n",
    "import numpy as np\n",
    "import matplotlib.pyplot as plt"
   ]
  },
  {
   "cell_type": "markdown",
   "id": "96f50cc3",
   "metadata": {},
   "source": [
    "## Define constants."
   ]
  },
  {
   "cell_type": "code",
   "execution_count": 4,
   "id": "4dd6a86c",
   "metadata": {},
   "outputs": [],
   "source": [
    "# Constants for directions and colors\n",
    "UP = (0, 1)\n",
    "DOWN = (0, -1)\n",
    "LEFT = (-1, 0)\n",
    "RIGHT = (1, 0)\n",
    "OUR_COLOR = \"O\"\n",
    "OTHER_COLOR = \"X\"\n",
    "TARGET=200"
   ]
  },
  {
   "cell_type": "markdown",
   "id": "cba00704",
   "metadata": {},
   "source": [
    "## Define all the functions.\n",
    "\n",
    "Here we define:\n",
    "- **grow_from_node** function: it choose a direction of growth randomly. If the node in that direction is blank, then it does the colour assignment. If the colour assignment is red, then we append the new node to the seed cluster. \n",
    "        \n",
    "- **model_growth** function: it use grow_from_node while the size of the cluster is smaller than the target size OR there are no more blank spot to grow.\n",
    "        \n",
    "- **plot_grid** function: this funcion simply plot in a fancy way the cluster with target size.    "
   ]
  },
  {
   "cell_type": "code",
   "execution_count": 7,
   "id": "9cf3a91c",
   "metadata": {},
   "outputs": [],
   "source": [
    "def grow_from_node(node, grid, cluster):\n",
    "    available_directions = [UP, DOWN, LEFT, RIGHT]\n",
    "    random.shuffle(available_directions)  # To randomize the choice\n",
    "\n",
    "    for direction in available_directions:\n",
    "        next_node = (node[0] + direction[0], node[1] + direction[1])\n",
    "\n",
    "        # Check if the cell is blank\n",
    "        if next_node not in grid:\n",
    "            # Color assignment\n",
    "            if random.random() < 0.5:\n",
    "                grid[next_node] = OUR_COLOR\n",
    "                cluster.append(next_node)\n",
    "            else:\n",
    "                grid[next_node] = OTHER_COLOR\n",
    "            return True\n",
    "\n",
    "    return False\n",
    "\n",
    "def model_growth(target_size):\n",
    "    grid = {(0,0): OUR_COLOR}\n",
    "    cluster = [(0, 0)]\n",
    "\n",
    "    while len(cluster) < target_size:\n",
    "        random.shuffle(cluster)  # Randomize the order of nodes\n",
    "        success = False\n",
    "\n",
    "        for node in cluster:\n",
    "            if grow_from_node(node, grid, cluster):\n",
    "                if len(cluster) >= target_size:\n",
    "                    return grid, cluster\n",
    "                success = True\n",
    "                break\n",
    "\n",
    "        if not success:\n",
    "            return None, None\n",
    "\n",
    "def plot_grid(grid):\n",
    "    min_x = min([key[0] for key in grid])\n",
    "    max_x = max([key[0] for key in grid])\n",
    "    min_y = min([key[1] for key in grid])\n",
    "    max_y = max([key[1] for key in grid])\n",
    "\n",
    "    # Initialize a matrix with white values\n",
    "    matrix = np.ones((max_y-min_y+1, max_x-min_x+1, 3))\n",
    "\n",
    "    # Fill the matrix based on grid values\n",
    "    for (x, y), value in grid.items():\n",
    "        if value == OUR_COLOR:\n",
    "            matrix[max_y-y, x-min_x] = [0.8156862745098039, 0.13725490196078433, 0.27450980392156865]  # Fancy red for our cluster nodes\n",
    "        elif value == OTHER_COLOR:\n",
    "            matrix[max_y-y, x-min_x] =  [0.9, 0.9, 0.9] # Light grey for other color\n",
    "\n",
    "    # Plot the matrix\n",
    "    plt.imshow(matrix)\n",
    "    plt.axis('off')\n",
    "    plt.show()\n",
    "\n"
   ]
  },
  {
   "cell_type": "markdown",
   "id": "1119d34d",
   "metadata": {},
   "source": [
    "## Run the model.\n",
    "\n",
    "In this code cell we actually run the model to generate our RGM cluster with target size. \n",
    "The code continue to run until a cluster with desired size is generated, then print both \n",
    "the cluster and the number of failures before getting to the right size."
   ]
  },
  {
   "cell_type": "code",
   "execution_count": 18,
   "id": "bae59b17",
   "metadata": {},
   "outputs": [
    {
     "name": "stdout",
     "output_type": "stream",
     "text": [
      "Cluster of size 200 found after 11 simulations of the model!\n"
     ]
    },
    {
     "data": {
      "image/png": "[encoded data removed]",
      "text/plain": [
       "<Figure size 432x288 with 1 Axes>"
      ]
     },
     "metadata": {
      "needs_background": "light"
     },
     "output_type": "display_data"
    }
   ],
   "source": [
    "failed_times=0\n",
    "while True:\n",
    "    grid, cluster = model_growth(TARGET)\n",
    "    if grid:  # If we obtained a grid, that means we got a cluster of required size.\n",
    "        print(\"Cluster of size\", len(cluster), \"found after\", failed_times, \"simulations of the model!\")\n",
    "        plot_grid(grid)\n",
    "        break\n",
    "    else:\n",
    "        failed_times += 1"
   ]
  }
 ],
 "metadata": {
  "kernelspec": {
   "display_name": "Python 3",
   "language": "python",
   "name": "python3"
  },
  "language_info": {
   "codemirror_mode": {
    "name": "ipython",
    "version": 3
   },
   "file_extension": ".py",
   "mimetype": "text/x-python",
   "name": "python",
   "nbconvert_exporter": "python",
   "pygments_lexer": "ipython3",
   "version": "3.8.8"
  }
 },
 "nbformat": 4,
 "nbformat_minor": 5
}
